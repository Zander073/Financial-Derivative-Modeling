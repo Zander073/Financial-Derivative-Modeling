{
  "nbformat": 4,
  "nbformat_minor": 0,
  "metadata": {
    "colab": {
      "provenance": [],
      "authorship_tag": "ABX9TyMGcg3QqFpB+lXtQWNuwX5+",
      "include_colab_link": true
    },
    "kernelspec": {
      "name": "python3",
      "display_name": "Python 3"
    },
    "language_info": {
      "name": "python"
    }
  },
  "cells": [
    {
      "cell_type": "markdown",
      "metadata": {
        "id": "view-in-github",
        "colab_type": "text"
      },
      "source": [
        "<a href=\"https://colab.research.google.com/github/Zander073/Financial-Derivative-Modeling/blob/main/Black_Scholes_Numerical_Example.ipynb\" target=\"_parent\"><img src=\"https://colab.research.google.com/assets/colab-badge.svg\" alt=\"Open In Colab\"/></a>"
      ]
    },
    {
      "cell_type": "code",
      "execution_count": 2,
      "metadata": {
        "id": "lwHVoZRErTRo"
      },
      "outputs": [],
      "source": [
        "import numpy as np\n",
        "import scipy as scp\n",
        "import scipy.stats as ss\n",
        "from scipy.integrate import quad\n",
        "from functools import partial\n",
        "\n",
        "import matplotlib.pyplot as plt"
      ]
    },
    {
      "cell_type": "markdown",
      "source": [
        "Note that the following example is dealing with a European call option.\n",
        "---\n",
        "\n",
        "We can define the value of a European call option via BS:\n",
        "\n",
        "# $C=N(d_{1})S_{t}-N(d_{2})Ke^{-rt}$\n",
        "\n",
        "We can define the value of a European put  option via BS:\n",
        "\n",
        "# $P=N(-d_{2})Ke^{-rt}-N(-d_{1})S_{t}$\n",
        "\n",
        "Given:\n",
        "\n",
        "# $d_{1}=\\frac{ln(\\frac{S_{t}}{K})+t(r+\\frac{\\sigma^2}{2})}{\\sigma\\sqrt{t}}$ \n",
        "\n",
        "# $d_{2}=d_{1}-\\sigma\\sqrt{t}$\n",
        "\n",
        "\n",
        "Where:\n",
        "\n",
        "$C=$ Call price\n",
        "\n",
        "$N=$ CDF of normal distribution\n",
        "\n",
        "$S_{t}=$ Spot price of stock\n",
        "\n",
        "$K=$ Strike price of call option\n",
        "\n",
        "$r=$ Risk-free interest rate\n",
        "\n",
        "$t=$ Time to maturity\n",
        "\n",
        "$σ=$ Volatility of asset\n"
      ],
      "metadata": {
        "id": "NrRY6BLer53e"
      }
    },
    {
      "cell_type": "markdown",
      "source": [
        "We will define our $d_{1}$ and $d_{2}$ functions here:"
      ],
      "metadata": {
        "id": "H0N_q9PSv3vt"
      }
    },
    {
      "cell_type": "code",
      "source": [
        "# d1 = (ln(s/k)+t(r+simga/2)) / (sigma * sqrt(t))\n",
        "def d_1(s, k, t, r, sigma):\n",
        "  \"\"\"\n",
        "  s: spot price\n",
        "  k: strike price\n",
        "  t: time to maturity\n",
        "  r: risk-free interest rate\n",
        "  sigma: volatility of asset\n",
        "\n",
        "  returns: d1 probability factor input\n",
        "  \"\"\"\n",
        "  n = np.log(s/k) + t * (r + ((sigma ** 2)/2))\n",
        "  d = sigma * np.sqrt(t)\n",
        "  d1 = n / d\n",
        "  return d1\n",
        "\n",
        "# d2 = d1 - sigma * sqrt(t)\n",
        "def d_2(d1, t, sigma):\n",
        "  \"\"\"\n",
        "  d1: first probability factor input\n",
        "  t: time to maturity\n",
        "  sigma: volatility of asset\n",
        "\n",
        "  returns: d2 probability factor input\n",
        "  \"\"\"\n",
        "  return d1 - (sigma * np.sqrt(t))\n",
        "\n",
        "\n"
      ],
      "metadata": {
        "id": "ZneEcdYErh2R"
      },
      "execution_count": 3,
      "outputs": []
    },
    {
      "cell_type": "markdown",
      "source": [
        "We will define our Black-Scholes call and put option functions here:"
      ],
      "metadata": {
        "id": "zKsjeSyJwicd"
      }
    },
    {
      "cell_type": "code",
      "source": [
        "# Black-Scholes call function:\n",
        "def bs_call(s, k, t, r, sigma):\n",
        "  \"\"\"\n",
        "  s: spot price\n",
        "  k: strike price\n",
        "  t: time to maturity\n",
        "  r: risk-free interest rate\n",
        "  sigma: volatility of asset\n",
        "\n",
        "  returns: Estimated \"fair\" price for a call option\n",
        "  \"\"\"\n",
        "  d1 = d_1(s, k, t, r, sigma)\n",
        "  d2 = d_2(d1, t, sigma)\n",
        "  call_price = ss.norm.cdf(d1) *s  - (ss.norm.cdf(d2) * k * np.exp(-r*t))\n",
        "  return call_price\n",
        "\n",
        "# Black-Scholes put function:\n",
        "def bs_put(s, k, t, r, sigma):\n",
        "  \"\"\"\n",
        "  s: spot price\n",
        "  k: strike price\n",
        "  t: time to maturity\n",
        "  r: risk-free interest rate\n",
        "  sigma: volatility of asset\n",
        "\n",
        "  returns: Estimated \"fair\" price for a put option\n",
        "  \"\"\"\n",
        "  d1 = d_1(s, k, t, r, sigma)\n",
        "  d2 = d_2(d1, t, sigma)\n",
        "  put_price = ss.norm.cdf(-1*d2) * k * np.exp(-r*t) - ss.norm.cdf(-d1) * s\n",
        "  return put_price"
      ],
      "metadata": {
        "id": "l3AEEM4Gwhj9"
      },
      "execution_count": 4,
      "outputs": []
    },
    {
      "cell_type": "markdown",
      "source": [
        "A working example of a call option estimation via BS:\n",
        "\n",
        "Given an underlying asset that is trading at the current price of $84.69 per share. \n",
        "\n",
        "We are estimating the value of a call option with a strike price of $80, expires in one day, exists a risk-free interest rate of 1%, and a volatility measurement of ~58.7%."
      ],
      "metadata": {
        "id": "KExUZJBxwpmd"
      }
    },
    {
      "cell_type": "code",
      "source": [
        "s=84.69     # spot stock price\n",
        "K=80.0      # strike\n",
        "T=1         # maturity \n",
        "r=0.01      # risk free rate \n",
        "sig=0.587   # diffusion coefficient or volatility\n",
        "\n",
        "price = bs_call(s, K, T, r, sig)\n",
        "print(price)"
      ],
      "metadata": {
        "colab": {
          "base_uri": "https://localhost:8080/"
        },
        "id": "1_Jx7VuTwslw",
        "outputId": "c75533f1-7a64-42f9-97e0-837aa378165b"
      },
      "execution_count": 6,
      "outputs": [
        {
          "output_type": "stream",
          "name": "stdout",
          "text": [
            "21.780734612291425\n"
          ]
        }
      ]
    },
    {
      "cell_type": "markdown",
      "source": [
        "A working example of a put option estimation via BS:\n",
        "\n",
        "Given an underlying asset that is trading at the current price of $84.69 per share. \n",
        "\n",
        "We are estimating the value of a call option with a strike price of $90, expires in one day, exists a risk-free interest rate of 1%, and a volatility measurement of ~58.7%."
      ],
      "metadata": {
        "id": "FOYg2xfzypM_"
      }
    },
    {
      "cell_type": "code",
      "source": [
        "s=84.69     # spot stock price\n",
        "K=90.0      # strike\n",
        "T=1         # maturity \n",
        "r=0.01      # risk free rate \n",
        "sig=0.587   # diffusion coefficient or volatility\n",
        "\n",
        "price = bs_call(s, K, T, r, sig)\n",
        "print(price)"
      ],
      "metadata": {
        "colab": {
          "base_uri": "https://localhost:8080/"
        },
        "id": "0UGY2a_kywYZ",
        "outputId": "847d6295-793e-4433-a23c-ece4f128812f"
      },
      "execution_count": 7,
      "outputs": [
        {
          "output_type": "stream",
          "name": "stdout",
          "text": [
            "17.926815723912455\n"
          ]
        }
      ]
    }
  ]
}